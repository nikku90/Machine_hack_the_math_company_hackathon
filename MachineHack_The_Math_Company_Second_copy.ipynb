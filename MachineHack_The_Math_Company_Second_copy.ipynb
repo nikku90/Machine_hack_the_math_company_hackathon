{
  "nbformat": 4,
  "nbformat_minor": 0,
  "metadata": {
    "kernelspec": {
      "display_name": "Python 3",
      "language": "python",
      "name": "python3"
    },
    "language_info": {
      "codemirror_mode": {
        "name": "ipython",
        "version": 3
      },
      "file_extension": ".py",
      "mimetype": "text/x-python",
      "name": "python",
      "nbconvert_exporter": "python",
      "pygments_lexer": "ipython3",
      "version": "3.8.5"
    },
    "colab": {
      "name": "MachineHack_The_Math_Company_Second_copy.ipynb",
      "provenance": []
    }
  },
  "cells": [
    {
      "cell_type": "markdown",
      "metadata": {
        "id": "sMjLj8evjCX6"
      },
      "source": [
        "# Import Libraries"
      ]
    },
    {
      "cell_type": "code",
      "metadata": {
        "id": "ALb2yGDyjCX8"
      },
      "source": [
        "import numpy as np\n",
        "import pandas as pd\n",
        "import matplotlib.pyplot as plt\n",
        "%matplotlib inline\n",
        "import seaborn as sns\n",
        "from datetime import datetime\n",
        "import warnings\n",
        "warnings.filterwarnings(\"ignore\")\n",
        "from sklearn.preprocessing import MinMaxScaler,StandardScaler\n",
        "from sklearn.impute import KNNImputer\n",
        "from sklearn.ensemble import RandomForestRegressor\n",
        "from sklearn.model_selection import RandomizedSearchCV\n",
        "from sklearn.metrics import mean_absolute_error, mean_squared_error,r2_score,mean_squared_log_error\n",
        "from xgboost import XGBRegressor\n",
        "from lazypredict.Supervised import LazyRegressor"
      ],
      "execution_count": 1,
      "outputs": []
    },
    {
      "cell_type": "markdown",
      "metadata": {
        "id": "NVqqua6FjCX-"
      },
      "source": [
        "# Load Dataset"
      ]
    },
    {
      "cell_type": "code",
      "metadata": {
        "colab": {
          "base_uri": "https://localhost:8080/"
        },
        "id": "c9VVLg-IjGst",
        "outputId": "021c13dd-2586-4198-fb83-bf2c13bde2aa"
      },
      "source": [
        "from google.colab import drive\n",
        "drive.mount('/content/drive')"
      ],
      "execution_count": 2,
      "outputs": [
        {
          "output_type": "stream",
          "text": [
            "Drive already mounted at /content/drive; to attempt to forcibly remount, call drive.mount(\"/content/drive\", force_remount=True).\n"
          ],
          "name": "stdout"
        }
      ]
    },
    {
      "cell_type": "code",
      "metadata": {
        "id": "PoS9koirjCX_"
      },
      "source": [
        "train_df=pd.read_csv(\"/content/drive/My Drive/Machine_hack/train.csv\")\n",
        "test_df=pd.read_csv(\"/content/drive/My Drive/Machine_hack/test.csv\")"
      ],
      "execution_count": 3,
      "outputs": []
    },
    {
      "cell_type": "markdown",
      "metadata": {
        "id": "rLMewnHjjCYA"
      },
      "source": [
        "# Data Exploration\n",
        "\n",
        "#### 1. Now as we successfully load the dataset now we will perform initial exploration and try to understand our data beteer\n",
        "#### 2. We will also combine the test and train dataset for Data Wrangling and Feature Engineering Task"
      ]
    },
    {
      "cell_type": "code",
      "metadata": {
        "id": "eIgQyMXEjCYB"
      },
      "source": [
        "# Lets set the Display max rows nd column option so we can see all columns and rows we want to see\n",
        "pd.set_option(\"display.max_rows\",train_df.shape[0])\n",
        "pd.set_option(\"display.max_columns\",train_df.shape[1])"
      ],
      "execution_count": 4,
      "outputs": []
    },
    {
      "cell_type": "code",
      "metadata": {
        "colab": {
          "base_uri": "https://localhost:8080/"
        },
        "id": "8nXAW3P1jCYC",
        "outputId": "ee27cfa9-2158-4304-96e8-2316be52adfe"
      },
      "source": [
        "# Check the shape of the data\n",
        "train_df.shape, test_df.shape"
      ],
      "execution_count": 5,
      "outputs": [
        {
          "output_type": "execute_result",
          "data": {
            "text/plain": [
              "((19237, 18), (8245, 18))"
            ]
          },
          "metadata": {
            "tags": []
          },
          "execution_count": 5
        }
      ]
    },
    {
      "cell_type": "markdown",
      "metadata": {
        "id": "WJe7tMqAjCYE"
      },
      "source": [
        "#####  No. of columns in both train and test dataset is equal which should not be the case ideally let's explore this further"
      ]
    },
    {
      "cell_type": "code",
      "metadata": {
        "colab": {
          "base_uri": "https://localhost:8080/"
        },
        "id": "0vLXLjxtjCYF",
        "outputId": "51e5f0c9-bb15-409e-9bb7-5d5075077816"
      },
      "source": [
        "# Print the Columns of Train datset\n",
        "train_df.columns"
      ],
      "execution_count": 6,
      "outputs": [
        {
          "output_type": "execute_result",
          "data": {
            "text/plain": [
              "Index(['ID', 'Price', 'Levy', 'Manufacturer', 'Model', 'Prod. year',\n",
              "       'Category', 'Leather interior', 'Fuel type', 'Engine volume', 'Mileage',\n",
              "       'Cylinders', 'Gear box type', 'Drive wheels', 'Doors', 'Wheel', 'Color',\n",
              "       'Airbags'],\n",
              "      dtype='object')"
            ]
          },
          "metadata": {
            "tags": []
          },
          "execution_count": 6
        }
      ]
    },
    {
      "cell_type": "code",
      "metadata": {
        "colab": {
          "base_uri": "https://localhost:8080/"
        },
        "id": "hJzsC5UxjCYG",
        "outputId": "e497ece4-836f-4e04-e855-0e466dff5ef0"
      },
      "source": [
        "# PRint the columns of test datset\n",
        "test_df.columns"
      ],
      "execution_count": 7,
      "outputs": [
        {
          "output_type": "execute_result",
          "data": {
            "text/plain": [
              "Index(['ID', 'Levy', 'Manufacturer', 'Model', 'Prod. year', 'Category',\n",
              "       'Leather interior', 'Fuel type', 'Engine volume', 'Mileage',\n",
              "       'Cylinders', 'Gear box type', 'Drive wheels', 'Doors', 'Wheel', 'Color',\n",
              "       'Airbags', 'Price'],\n",
              "      dtype='object')"
            ]
          },
          "metadata": {
            "tags": []
          },
          "execution_count": 7
        }
      ]
    },
    {
      "cell_type": "code",
      "metadata": {
        "colab": {
          "base_uri": "https://localhost:8080/",
          "height": 162
        },
        "id": "SJ3boCtRjCYH",
        "outputId": "f0bef473-6a7b-462f-de25-61c3f16fa814"
      },
      "source": [
        "train_df.head(2)"
      ],
      "execution_count": 8,
      "outputs": [
        {
          "output_type": "execute_result",
          "data": {
            "text/html": [
              "<div>\n",
              "<style scoped>\n",
              "    .dataframe tbody tr th:only-of-type {\n",
              "        vertical-align: middle;\n",
              "    }\n",
              "\n",
              "    .dataframe tbody tr th {\n",
              "        vertical-align: top;\n",
              "    }\n",
              "\n",
              "    .dataframe thead th {\n",
              "        text-align: right;\n",
              "    }\n",
              "</style>\n",
              "<table border=\"1\" class=\"dataframe\">\n",
              "  <thead>\n",
              "    <tr style=\"text-align: right;\">\n",
              "      <th></th>\n",
              "      <th>ID</th>\n",
              "      <th>Price</th>\n",
              "      <th>Levy</th>\n",
              "      <th>Manufacturer</th>\n",
              "      <th>Model</th>\n",
              "      <th>Prod. year</th>\n",
              "      <th>Category</th>\n",
              "      <th>Leather interior</th>\n",
              "      <th>Fuel type</th>\n",
              "      <th>Engine volume</th>\n",
              "      <th>Mileage</th>\n",
              "      <th>Cylinders</th>\n",
              "      <th>Gear box type</th>\n",
              "      <th>Drive wheels</th>\n",
              "      <th>Doors</th>\n",
              "      <th>Wheel</th>\n",
              "      <th>Color</th>\n",
              "      <th>Airbags</th>\n",
              "    </tr>\n",
              "  </thead>\n",
              "  <tbody>\n",
              "    <tr>\n",
              "      <th>0</th>\n",
              "      <td>45654403</td>\n",
              "      <td>13328</td>\n",
              "      <td>1399</td>\n",
              "      <td>LEXUS</td>\n",
              "      <td>RX 450</td>\n",
              "      <td>2010</td>\n",
              "      <td>Jeep</td>\n",
              "      <td>Yes</td>\n",
              "      <td>Hybrid</td>\n",
              "      <td>3.5</td>\n",
              "      <td>186005 km</td>\n",
              "      <td>6.00</td>\n",
              "      <td>Automatic</td>\n",
              "      <td>4x4</td>\n",
              "      <td>04-May</td>\n",
              "      <td>Left wheel</td>\n",
              "      <td>Silver</td>\n",
              "      <td>12</td>\n",
              "    </tr>\n",
              "    <tr>\n",
              "      <th>1</th>\n",
              "      <td>44731507</td>\n",
              "      <td>16621</td>\n",
              "      <td>1018</td>\n",
              "      <td>CHEVROLET</td>\n",
              "      <td>Equinox</td>\n",
              "      <td>2011</td>\n",
              "      <td>Jeep</td>\n",
              "      <td>No</td>\n",
              "      <td>Petrol</td>\n",
              "      <td>3</td>\n",
              "      <td>192000 km</td>\n",
              "      <td>6.00</td>\n",
              "      <td>Tiptronic</td>\n",
              "      <td>4x4</td>\n",
              "      <td>04-May</td>\n",
              "      <td>Left wheel</td>\n",
              "      <td>Black</td>\n",
              "      <td>8</td>\n",
              "    </tr>\n",
              "  </tbody>\n",
              "</table>\n",
              "</div>"
            ],
            "text/plain": [
              "         ID  Price  Levy Manufacturer    Model  Prod. year Category  \\\n",
              "0  45654403  13328  1399        LEXUS   RX 450        2010     Jeep   \n",
              "1  44731507  16621  1018    CHEVROLET  Equinox        2011     Jeep   \n",
              "\n",
              "  Leather interior Fuel type Engine volume    Mileage  Cylinders  \\\n",
              "0              Yes    Hybrid           3.5  186005 km       6.00   \n",
              "1               No    Petrol             3  192000 km       6.00   \n",
              "\n",
              "  Gear box type Drive wheels   Doors       Wheel   Color  Airbags  \n",
              "0     Automatic          4x4  04-May  Left wheel  Silver       12  \n",
              "1     Tiptronic          4x4  04-May  Left wheel   Black        8  "
            ]
          },
          "metadata": {
            "tags": []
          },
          "execution_count": 8
        }
      ]
    },
    {
      "cell_type": "code",
      "metadata": {
        "colab": {
          "base_uri": "https://localhost:8080/",
          "height": 179
        },
        "id": "Jgu-mjOdjCYI",
        "outputId": "e807756b-91c4-4249-dd08-1fe1327028da"
      },
      "source": [
        "test_df.head(2)"
      ],
      "execution_count": 9,
      "outputs": [
        {
          "output_type": "execute_result",
          "data": {
            "text/html": [
              "<div>\n",
              "<style scoped>\n",
              "    .dataframe tbody tr th:only-of-type {\n",
              "        vertical-align: middle;\n",
              "    }\n",
              "\n",
              "    .dataframe tbody tr th {\n",
              "        vertical-align: top;\n",
              "    }\n",
              "\n",
              "    .dataframe thead th {\n",
              "        text-align: right;\n",
              "    }\n",
              "</style>\n",
              "<table border=\"1\" class=\"dataframe\">\n",
              "  <thead>\n",
              "    <tr style=\"text-align: right;\">\n",
              "      <th></th>\n",
              "      <th>ID</th>\n",
              "      <th>Levy</th>\n",
              "      <th>Manufacturer</th>\n",
              "      <th>Model</th>\n",
              "      <th>Prod. year</th>\n",
              "      <th>Category</th>\n",
              "      <th>Leather interior</th>\n",
              "      <th>Fuel type</th>\n",
              "      <th>Engine volume</th>\n",
              "      <th>Mileage</th>\n",
              "      <th>Cylinders</th>\n",
              "      <th>Gear box type</th>\n",
              "      <th>Drive wheels</th>\n",
              "      <th>Doors</th>\n",
              "      <th>Wheel</th>\n",
              "      <th>Color</th>\n",
              "      <th>Airbags</th>\n",
              "      <th>Price</th>\n",
              "    </tr>\n",
              "  </thead>\n",
              "  <tbody>\n",
              "    <tr>\n",
              "      <th>0</th>\n",
              "      <td>44020629</td>\n",
              "      <td>-</td>\n",
              "      <td>VOLKSWAGEN</td>\n",
              "      <td>Golf</td>\n",
              "      <td>2012</td>\n",
              "      <td>Hatchback</td>\n",
              "      <td>No</td>\n",
              "      <td>Diesel</td>\n",
              "      <td>2.0 Turbo</td>\n",
              "      <td>0 km</td>\n",
              "      <td>4</td>\n",
              "      <td>Manual</td>\n",
              "      <td>Front</td>\n",
              "      <td>02-Mar</td>\n",
              "      <td>Left wheel</td>\n",
              "      <td>Grey</td>\n",
              "      <td>10</td>\n",
              "      <td>nan</td>\n",
              "    </tr>\n",
              "    <tr>\n",
              "      <th>1</th>\n",
              "      <td>45784798</td>\n",
              "      <td>-</td>\n",
              "      <td>HYUNDAI</td>\n",
              "      <td>Sonata</td>\n",
              "      <td>2012</td>\n",
              "      <td>Sedan</td>\n",
              "      <td>Yes</td>\n",
              "      <td>Petrol</td>\n",
              "      <td>2.4</td>\n",
              "      <td>26000 km</td>\n",
              "      <td>4</td>\n",
              "      <td>Tiptronic</td>\n",
              "      <td>Front</td>\n",
              "      <td>04-May</td>\n",
              "      <td>Left wheel</td>\n",
              "      <td>Grey</td>\n",
              "      <td>10</td>\n",
              "      <td>nan</td>\n",
              "    </tr>\n",
              "  </tbody>\n",
              "</table>\n",
              "</div>"
            ],
            "text/plain": [
              "         ID Levy Manufacturer   Model  Prod. year   Category Leather interior  \\\n",
              "0  44020629    -   VOLKSWAGEN    Golf        2012  Hatchback               No   \n",
              "1  45784798    -      HYUNDAI  Sonata        2012      Sedan              Yes   \n",
              "\n",
              "  Fuel type Engine volume   Mileage  Cylinders Gear box type Drive wheels  \\\n",
              "0    Diesel     2.0 Turbo      0 km          4        Manual        Front   \n",
              "1    Petrol           2.4  26000 km          4     Tiptronic        Front   \n",
              "\n",
              "    Doors       Wheel Color  Airbags  Price  \n",
              "0  02-Mar  Left wheel  Grey       10    nan  \n",
              "1  04-May  Left wheel  Grey       10    nan  "
            ]
          },
          "metadata": {
            "tags": []
          },
          "execution_count": 9
        }
      ]
    },
    {
      "cell_type": "markdown",
      "metadata": {
        "id": "-vOT0vr3jCYJ"
      },
      "source": [
        "#### As we can see the Price column has NaN for both records  in Test Dataset let's check the info of data"
      ]
    },
    {
      "cell_type": "code",
      "metadata": {
        "colab": {
          "base_uri": "https://localhost:8080/"
        },
        "id": "m30VqdWyjCYJ",
        "outputId": "c70b74df-4cee-4e90-afb6-e1a455d142da"
      },
      "source": [
        "train_df.info()"
      ],
      "execution_count": 10,
      "outputs": [
        {
          "output_type": "stream",
          "text": [
            "<class 'pandas.core.frame.DataFrame'>\n",
            "RangeIndex: 19237 entries, 0 to 19236\n",
            "Data columns (total 18 columns):\n",
            " #   Column            Non-Null Count  Dtype  \n",
            "---  ------            --------------  -----  \n",
            " 0   ID                19237 non-null  int64  \n",
            " 1   Price             19237 non-null  int64  \n",
            " 2   Levy              19237 non-null  object \n",
            " 3   Manufacturer      19237 non-null  object \n",
            " 4   Model             19237 non-null  object \n",
            " 5   Prod. year        19237 non-null  int64  \n",
            " 6   Category          19237 non-null  object \n",
            " 7   Leather interior  19237 non-null  object \n",
            " 8   Fuel type         19237 non-null  object \n",
            " 9   Engine volume     19237 non-null  object \n",
            " 10  Mileage           19237 non-null  object \n",
            " 11  Cylinders         19237 non-null  float64\n",
            " 12  Gear box type     19237 non-null  object \n",
            " 13  Drive wheels      19237 non-null  object \n",
            " 14  Doors             19237 non-null  object \n",
            " 15  Wheel             19237 non-null  object \n",
            " 16  Color             19237 non-null  object \n",
            " 17  Airbags           19237 non-null  int64  \n",
            "dtypes: float64(1), int64(4), object(13)\n",
            "memory usage: 2.6+ MB\n"
          ],
          "name": "stdout"
        }
      ]
    },
    {
      "cell_type": "code",
      "metadata": {
        "colab": {
          "base_uri": "https://localhost:8080/"
        },
        "id": "k_MrFYoAjCYK",
        "outputId": "e936191d-09bc-4427-91d8-384babb50ff3"
      },
      "source": [
        "test_df.info()"
      ],
      "execution_count": 11,
      "outputs": [
        {
          "output_type": "stream",
          "text": [
            "<class 'pandas.core.frame.DataFrame'>\n",
            "RangeIndex: 8245 entries, 0 to 8244\n",
            "Data columns (total 18 columns):\n",
            " #   Column            Non-Null Count  Dtype  \n",
            "---  ------            --------------  -----  \n",
            " 0   ID                8245 non-null   int64  \n",
            " 1   Levy              8245 non-null   object \n",
            " 2   Manufacturer      8245 non-null   object \n",
            " 3   Model             8245 non-null   object \n",
            " 4   Prod. year        8245 non-null   int64  \n",
            " 5   Category          8245 non-null   object \n",
            " 6   Leather interior  8245 non-null   object \n",
            " 7   Fuel type         8245 non-null   object \n",
            " 8   Engine volume     8245 non-null   object \n",
            " 9   Mileage           8245 non-null   object \n",
            " 10  Cylinders         8245 non-null   int64  \n",
            " 11  Gear box type     8245 non-null   object \n",
            " 12  Drive wheels      8245 non-null   object \n",
            " 13  Doors             8245 non-null   object \n",
            " 14  Wheel             8245 non-null   object \n",
            " 15  Color             8245 non-null   object \n",
            " 16  Airbags           8245 non-null   int64  \n",
            " 17  Price             0 non-null      float64\n",
            "dtypes: float64(1), int64(4), object(13)\n",
            "memory usage: 1.1+ MB\n"
          ],
          "name": "stdout"
        }
      ]
    },
    {
      "cell_type": "markdown",
      "metadata": {
        "id": "vWdj03oTjCYL"
      },
      "source": [
        "#### Let's check the Categorical and Numerical variables Sepeately"
      ]
    },
    {
      "cell_type": "code",
      "metadata": {
        "colab": {
          "base_uri": "https://localhost:8080/"
        },
        "id": "nsVzQaFBjCYL",
        "outputId": "40b6ec36-d9f2-4e33-85fe-ec335a047a65"
      },
      "source": [
        "cat_var=train_df.select_dtypes(include=[np.object])\n",
        "print(\"No. of Categorical Variable: {}\".format(cat_var.shape[1]))\n",
        "print(\"*************************************************************************\")\n",
        "print(f\"The Categorical Variables are: {list(cat_var.columns)}\")"
      ],
      "execution_count": 12,
      "outputs": [
        {
          "output_type": "stream",
          "text": [
            "No. of Categorical Variable: 13\n",
            "*************************************************************************\n",
            "The Categorical Variables are: ['Levy', 'Manufacturer', 'Model', 'Category', 'Leather interior', 'Fuel type', 'Engine volume', 'Mileage', 'Gear box type', 'Drive wheels', 'Doors', 'Wheel', 'Color']\n"
          ],
          "name": "stdout"
        }
      ]
    },
    {
      "cell_type": "code",
      "metadata": {
        "colab": {
          "base_uri": "https://localhost:8080/"
        },
        "id": "j1VxVAiLjCYM",
        "outputId": "a5ca9a7c-4668-4708-dc02-747b0d1e4bdf"
      },
      "source": [
        "numerical_var=train_df.select_dtypes(include=[np.float64,np.int64])\n",
        "print(\"No. of Categorical Variable: {}\".format(numerical_var.shape[1]))\n",
        "print(\"*************************************************************************\")\n",
        "print(f\"The Categorical Variables are: {list(numerical_var.columns)}\")"
      ],
      "execution_count": 13,
      "outputs": [
        {
          "output_type": "stream",
          "text": [
            "No. of Categorical Variable: 5\n",
            "*************************************************************************\n",
            "The Categorical Variables are: ['ID', 'Price', 'Prod. year', 'Cylinders', 'Airbags']\n"
          ],
          "name": "stdout"
        }
      ]
    },
    {
      "cell_type": "code",
      "metadata": {
        "colab": {
          "base_uri": "https://localhost:8080/"
        },
        "id": "DirZ2UnYjCYN",
        "outputId": "8d9ee24f-dca0-409f-ba3f-f0006e30abda"
      },
      "source": [
        "# print unique values of a column having less than 10 unique values\n",
        "for i in cat_var.columns:\n",
        "    if train_df[i].nunique()<10:\n",
        "        print(f\"Columns Name: {i}\")\n",
        "        print(train_df[i].unique())\n",
        "        print(\"------------------------------------------------------------\")"
      ],
      "execution_count": 14,
      "outputs": [
        {
          "output_type": "stream",
          "text": [
            "Columns Name: Leather interior\n",
            "['Yes' 'No']\n",
            "------------------------------------------------------------\n",
            "Columns Name: Fuel type\n",
            "['Hybrid' 'Petrol' 'Diesel' 'CNG' 'Plug-in Hybrid' 'LPG' 'Hydrogen']\n",
            "------------------------------------------------------------\n",
            "Columns Name: Gear box type\n",
            "['Automatic' 'Tiptronic' 'Variator' 'Manual']\n",
            "------------------------------------------------------------\n",
            "Columns Name: Drive wheels\n",
            "['4x4' 'Front' 'Rear']\n",
            "------------------------------------------------------------\n",
            "Columns Name: Doors\n",
            "['04-May' '02-Mar' '>5']\n",
            "------------------------------------------------------------\n",
            "Columns Name: Wheel\n",
            "['Left wheel' 'Right-hand drive']\n",
            "------------------------------------------------------------\n"
          ],
          "name": "stdout"
        }
      ]
    },
    {
      "cell_type": "code",
      "metadata": {
        "colab": {
          "base_uri": "https://localhost:8080/"
        },
        "id": "e_IGbzuwjCYO",
        "outputId": "ffc79402-f379-4c35-dd45-b6719de6fe5e"
      },
      "source": [
        "#Unique Values\n",
        "train_df.nunique()"
      ],
      "execution_count": 15,
      "outputs": [
        {
          "output_type": "execute_result",
          "data": {
            "text/plain": [
              "ID                  18924\n",
              "Price                2315\n",
              "Levy                  559\n",
              "Manufacturer           65\n",
              "Model                1590\n",
              "Prod. year             54\n",
              "Category               11\n",
              "Leather interior        2\n",
              "Fuel type               7\n",
              "Engine volume         107\n",
              "Mileage              7687\n",
              "Cylinders              13\n",
              "Gear box type           4\n",
              "Drive wheels            3\n",
              "Doors                   3\n",
              "Wheel                   2\n",
              "Color                  16\n",
              "Airbags                17\n",
              "dtype: int64"
            ]
          },
          "metadata": {
            "tags": []
          },
          "execution_count": 15
        }
      ]
    },
    {
      "cell_type": "code",
      "metadata": {
        "colab": {
          "base_uri": "https://localhost:8080/",
          "height": 607
        },
        "id": "_xaQz5HkjCYP",
        "outputId": "fe0297ba-819e-478b-f3dc-2c35c46fa944"
      },
      "source": [
        "# Print the total no of missing values and % of missing values for each column\n",
        "pd.DataFrame({\"Missing Values\":train_df.isna().sum(),\"Missing Value (%)\":100*train_df.isna().sum()/train_df.shape[0]}).reset_index(0).rename(columns={\"index\":\"Column_name\"})"
      ],
      "execution_count": 16,
      "outputs": [
        {
          "output_type": "execute_result",
          "data": {
            "text/html": [
              "<div>\n",
              "<style scoped>\n",
              "    .dataframe tbody tr th:only-of-type {\n",
              "        vertical-align: middle;\n",
              "    }\n",
              "\n",
              "    .dataframe tbody tr th {\n",
              "        vertical-align: top;\n",
              "    }\n",
              "\n",
              "    .dataframe thead th {\n",
              "        text-align: right;\n",
              "    }\n",
              "</style>\n",
              "<table border=\"1\" class=\"dataframe\">\n",
              "  <thead>\n",
              "    <tr style=\"text-align: right;\">\n",
              "      <th></th>\n",
              "      <th>Column_name</th>\n",
              "      <th>Missing Values</th>\n",
              "      <th>Missing Value (%)</th>\n",
              "    </tr>\n",
              "  </thead>\n",
              "  <tbody>\n",
              "    <tr>\n",
              "      <th>0</th>\n",
              "      <td>ID</td>\n",
              "      <td>0</td>\n",
              "      <td>0.00</td>\n",
              "    </tr>\n",
              "    <tr>\n",
              "      <th>1</th>\n",
              "      <td>Price</td>\n",
              "      <td>0</td>\n",
              "      <td>0.00</td>\n",
              "    </tr>\n",
              "    <tr>\n",
              "      <th>2</th>\n",
              "      <td>Levy</td>\n",
              "      <td>0</td>\n",
              "      <td>0.00</td>\n",
              "    </tr>\n",
              "    <tr>\n",
              "      <th>3</th>\n",
              "      <td>Manufacturer</td>\n",
              "      <td>0</td>\n",
              "      <td>0.00</td>\n",
              "    </tr>\n",
              "    <tr>\n",
              "      <th>4</th>\n",
              "      <td>Model</td>\n",
              "      <td>0</td>\n",
              "      <td>0.00</td>\n",
              "    </tr>\n",
              "    <tr>\n",
              "      <th>5</th>\n",
              "      <td>Prod. year</td>\n",
              "      <td>0</td>\n",
              "      <td>0.00</td>\n",
              "    </tr>\n",
              "    <tr>\n",
              "      <th>6</th>\n",
              "      <td>Category</td>\n",
              "      <td>0</td>\n",
              "      <td>0.00</td>\n",
              "    </tr>\n",
              "    <tr>\n",
              "      <th>7</th>\n",
              "      <td>Leather interior</td>\n",
              "      <td>0</td>\n",
              "      <td>0.00</td>\n",
              "    </tr>\n",
              "    <tr>\n",
              "      <th>8</th>\n",
              "      <td>Fuel type</td>\n",
              "      <td>0</td>\n",
              "      <td>0.00</td>\n",
              "    </tr>\n",
              "    <tr>\n",
              "      <th>9</th>\n",
              "      <td>Engine volume</td>\n",
              "      <td>0</td>\n",
              "      <td>0.00</td>\n",
              "    </tr>\n",
              "    <tr>\n",
              "      <th>10</th>\n",
              "      <td>Mileage</td>\n",
              "      <td>0</td>\n",
              "      <td>0.00</td>\n",
              "    </tr>\n",
              "    <tr>\n",
              "      <th>11</th>\n",
              "      <td>Cylinders</td>\n",
              "      <td>0</td>\n",
              "      <td>0.00</td>\n",
              "    </tr>\n",
              "    <tr>\n",
              "      <th>12</th>\n",
              "      <td>Gear box type</td>\n",
              "      <td>0</td>\n",
              "      <td>0.00</td>\n",
              "    </tr>\n",
              "    <tr>\n",
              "      <th>13</th>\n",
              "      <td>Drive wheels</td>\n",
              "      <td>0</td>\n",
              "      <td>0.00</td>\n",
              "    </tr>\n",
              "    <tr>\n",
              "      <th>14</th>\n",
              "      <td>Doors</td>\n",
              "      <td>0</td>\n",
              "      <td>0.00</td>\n",
              "    </tr>\n",
              "    <tr>\n",
              "      <th>15</th>\n",
              "      <td>Wheel</td>\n",
              "      <td>0</td>\n",
              "      <td>0.00</td>\n",
              "    </tr>\n",
              "    <tr>\n",
              "      <th>16</th>\n",
              "      <td>Color</td>\n",
              "      <td>0</td>\n",
              "      <td>0.00</td>\n",
              "    </tr>\n",
              "    <tr>\n",
              "      <th>17</th>\n",
              "      <td>Airbags</td>\n",
              "      <td>0</td>\n",
              "      <td>0.00</td>\n",
              "    </tr>\n",
              "  </tbody>\n",
              "</table>\n",
              "</div>"
            ],
            "text/plain": [
              "         Column_name  Missing Values  Missing Value (%)\n",
              "0                 ID               0               0.00\n",
              "1              Price               0               0.00\n",
              "2               Levy               0               0.00\n",
              "3       Manufacturer               0               0.00\n",
              "4              Model               0               0.00\n",
              "5         Prod. year               0               0.00\n",
              "6           Category               0               0.00\n",
              "7   Leather interior               0               0.00\n",
              "8          Fuel type               0               0.00\n",
              "9      Engine volume               0               0.00\n",
              "10           Mileage               0               0.00\n",
              "11         Cylinders               0               0.00\n",
              "12     Gear box type               0               0.00\n",
              "13      Drive wheels               0               0.00\n",
              "14             Doors               0               0.00\n",
              "15             Wheel               0               0.00\n",
              "16             Color               0               0.00\n",
              "17           Airbags               0               0.00"
            ]
          },
          "metadata": {
            "tags": []
          },
          "execution_count": 16
        }
      ]
    },
    {
      "cell_type": "markdown",
      "metadata": {
        "id": "KhXMDMvEjCYQ"
      },
      "source": [
        "#### As per our Domain knowledge we know that Mileage,Engine Volume and Levy should be a numerical variable so there may be some issues with the value in this column "
      ]
    },
    {
      "cell_type": "code",
      "metadata": {
        "colab": {
          "base_uri": "https://localhost:8080/"
        },
        "id": "twyvH2zCjCYR",
        "outputId": "37b34089-6be3-452e-b477-486671b8668f"
      },
      "source": [
        "train_df.Mileage.value_counts()[:5]"
      ],
      "execution_count": 17,
      "outputs": [
        {
          "output_type": "execute_result",
          "data": {
            "text/plain": [
              "0 km         721\n",
              "200000 km    183\n",
              "150000 km    161\n",
              "160000 km    120\n",
              "100000 km    119\n",
              "Name: Mileage, dtype: int64"
            ]
          },
          "metadata": {
            "tags": []
          },
          "execution_count": 17
        }
      ]
    },
    {
      "cell_type": "code",
      "metadata": {
        "colab": {
          "base_uri": "https://localhost:8080/"
        },
        "id": "u-QEyF6CjCYS",
        "outputId": "586d0dd5-f286-4fff-e7a5-c641572e987a"
      },
      "source": [
        "train_df['Engine volume'].value_counts()[:10]"
      ],
      "execution_count": 18,
      "outputs": [
        {
          "output_type": "execute_result",
          "data": {
            "text/plain": [
              "2            3916\n",
              "2.5          2277\n",
              "1.8          1760\n",
              "1.6          1462\n",
              "1.5          1321\n",
              "3.5          1228\n",
              "2.4           987\n",
              "3             823\n",
              "1.3           518\n",
              "2.0 Turbo     408\n",
              "Name: Engine volume, dtype: int64"
            ]
          },
          "metadata": {
            "tags": []
          },
          "execution_count": 18
        }
      ]
    },
    {
      "cell_type": "code",
      "metadata": {
        "colab": {
          "base_uri": "https://localhost:8080/"
        },
        "id": "f27Gtzd4jCYT",
        "outputId": "d1e1f642-adde-42a9-98d3-ce2813129cd7"
      },
      "source": [
        "train_df[\"Levy\"].value_counts()[:5]"
      ],
      "execution_count": 19,
      "outputs": [
        {
          "output_type": "execute_result",
          "data": {
            "text/plain": [
              "-      5819\n",
              "765     486\n",
              "891     461\n",
              "639     410\n",
              "640     405\n",
              "Name: Levy, dtype: int64"
            ]
          },
          "metadata": {
            "tags": []
          },
          "execution_count": 19
        }
      ]
    },
    {
      "cell_type": "code",
      "metadata": {
        "id": "h3ZdxEb5jCYU"
      },
      "source": [
        "def pre_processing(df,col1,col2,col3,col4):\n",
        "    df[col1]=df[col1].apply(lambda x:float(x.split(\" \")[0]))\n",
        "    df[\"Turbo_Egine\"]=df[col2].apply(lambda x: \"yes\" if x.split(\" \")[0]==\"Turbo\" else \"No\")\n",
        "    df[col2]=df[col2].apply(lambda x:float(x.split(\" \")[0]))\n",
        "    df[\"Levy_imposed\"]=df[col3].apply(lambda x: \"yes\" if x !=\"-\" else \"No\")\n",
        "    df.loc[df[col3]==\"-\",col3]=0\n",
        "    df[col3]=df[col3].astype(\"float64\")\n",
        "    df[col4]=df[col4].apply(lambda x:x.split(\"-\")[0])"
      ],
      "execution_count": 20,
      "outputs": []
    },
    {
      "cell_type": "code",
      "metadata": {
        "id": "EKsjQU-_jCYV"
      },
      "source": [
        "pre_processing(train_df,'Mileage','Engine volume','Levy',\"Doors\")"
      ],
      "execution_count": 21,
      "outputs": []
    },
    {
      "cell_type": "code",
      "metadata": {
        "id": "8AbiYHQBjCYV"
      },
      "source": [
        "pre_processing(test_df,'Mileage','Engine volume','Levy',\"Doors\")"
      ],
      "execution_count": 22,
      "outputs": []
    },
    {
      "cell_type": "code",
      "metadata": {
        "colab": {
          "base_uri": "https://localhost:8080/"
        },
        "id": "9m59VoKLsdoi",
        "outputId": "70a6c0ff-e83d-4f45-f2ef-6260d7574143"
      },
      "source": [
        "train_df.info()"
      ],
      "execution_count": 23,
      "outputs": [
        {
          "output_type": "stream",
          "text": [
            "<class 'pandas.core.frame.DataFrame'>\n",
            "RangeIndex: 19237 entries, 0 to 19236\n",
            "Data columns (total 20 columns):\n",
            " #   Column            Non-Null Count  Dtype  \n",
            "---  ------            --------------  -----  \n",
            " 0   ID                19237 non-null  int64  \n",
            " 1   Price             19237 non-null  int64  \n",
            " 2   Levy              19237 non-null  float64\n",
            " 3   Manufacturer      19237 non-null  object \n",
            " 4   Model             19237 non-null  object \n",
            " 5   Prod. year        19237 non-null  int64  \n",
            " 6   Category          19237 non-null  object \n",
            " 7   Leather interior  19237 non-null  object \n",
            " 8   Fuel type         19237 non-null  object \n",
            " 9   Engine volume     19237 non-null  float64\n",
            " 10  Mileage           19237 non-null  float64\n",
            " 11  Cylinders         19237 non-null  float64\n",
            " 12  Gear box type     19237 non-null  object \n",
            " 13  Drive wheels      19237 non-null  object \n",
            " 14  Doors             19237 non-null  object \n",
            " 15  Wheel             19237 non-null  object \n",
            " 16  Color             19237 non-null  object \n",
            " 17  Airbags           19237 non-null  int64  \n",
            " 18  Turbo_Egine       19237 non-null  object \n",
            " 19  Levy_imposed      19237 non-null  object \n",
            "dtypes: float64(4), int64(4), object(12)\n",
            "memory usage: 2.9+ MB\n"
          ],
          "name": "stdout"
        }
      ]
    },
    {
      "cell_type": "markdown",
      "metadata": {
        "id": "m8JVZPvbjCYV"
      },
      "source": [
        "#  Exploratory Data Aalysis"
      ]
    },
    {
      "cell_type": "code",
      "metadata": {
        "id": "fWZIb2a_zuTQ"
      },
      "source": [
        "#sns.pairplot(train_df)"
      ],
      "execution_count": 24,
      "outputs": []
    },
    {
      "cell_type": "code",
      "metadata": {
        "colab": {
          "base_uri": "https://localhost:8080/",
          "height": 297
        },
        "id": "hMsEwgpqjCYV",
        "outputId": "d21bfba5-7caa-45d1-8ff8-800c4fb40c80"
      },
      "source": [
        "train_df.describe().apply(lambda s: s.apply('{0:.5f}'.format))"
      ],
      "execution_count": 25,
      "outputs": [
        {
          "output_type": "execute_result",
          "data": {
            "text/html": [
              "<div>\n",
              "<style scoped>\n",
              "    .dataframe tbody tr th:only-of-type {\n",
              "        vertical-align: middle;\n",
              "    }\n",
              "\n",
              "    .dataframe tbody tr th {\n",
              "        vertical-align: top;\n",
              "    }\n",
              "\n",
              "    .dataframe thead th {\n",
              "        text-align: right;\n",
              "    }\n",
              "</style>\n",
              "<table border=\"1\" class=\"dataframe\">\n",
              "  <thead>\n",
              "    <tr style=\"text-align: right;\">\n",
              "      <th></th>\n",
              "      <th>ID</th>\n",
              "      <th>Price</th>\n",
              "      <th>Levy</th>\n",
              "      <th>Prod. year</th>\n",
              "      <th>Engine volume</th>\n",
              "      <th>Mileage</th>\n",
              "      <th>Cylinders</th>\n",
              "      <th>Airbags</th>\n",
              "    </tr>\n",
              "  </thead>\n",
              "  <tbody>\n",
              "    <tr>\n",
              "      <th>count</th>\n",
              "      <td>19237.00000</td>\n",
              "      <td>19237.00000</td>\n",
              "      <td>19237.00000</td>\n",
              "      <td>19237.00000</td>\n",
              "      <td>19237.00000</td>\n",
              "      <td>19237.00000</td>\n",
              "      <td>19237.00000</td>\n",
              "      <td>19237.00000</td>\n",
              "    </tr>\n",
              "    <tr>\n",
              "      <th>mean</th>\n",
              "      <td>45576535.88610</td>\n",
              "      <td>18555.92722</td>\n",
              "      <td>632.52867</td>\n",
              "      <td>2010.91282</td>\n",
              "      <td>2.30799</td>\n",
              "      <td>1532235.68769</td>\n",
              "      <td>4.58299</td>\n",
              "      <td>6.58263</td>\n",
              "    </tr>\n",
              "    <tr>\n",
              "      <th>std</th>\n",
              "      <td>936591.42280</td>\n",
              "      <td>190581.26968</td>\n",
              "      <td>567.72169</td>\n",
              "      <td>5.66867</td>\n",
              "      <td>0.87780</td>\n",
              "      <td>48403869.37929</td>\n",
              "      <td>1.19993</td>\n",
              "      <td>4.32017</td>\n",
              "    </tr>\n",
              "    <tr>\n",
              "      <th>min</th>\n",
              "      <td>20746880.00000</td>\n",
              "      <td>1.00000</td>\n",
              "      <td>0.00000</td>\n",
              "      <td>1939.00000</td>\n",
              "      <td>0.00000</td>\n",
              "      <td>0.00000</td>\n",
              "      <td>1.00000</td>\n",
              "      <td>0.00000</td>\n",
              "    </tr>\n",
              "    <tr>\n",
              "      <th>25%</th>\n",
              "      <td>45698374.00000</td>\n",
              "      <td>5331.00000</td>\n",
              "      <td>0.00000</td>\n",
              "      <td>2009.00000</td>\n",
              "      <td>1.80000</td>\n",
              "      <td>70139.00000</td>\n",
              "      <td>4.00000</td>\n",
              "      <td>4.00000</td>\n",
              "    </tr>\n",
              "    <tr>\n",
              "      <th>50%</th>\n",
              "      <td>45772308.00000</td>\n",
              "      <td>13172.00000</td>\n",
              "      <td>642.00000</td>\n",
              "      <td>2012.00000</td>\n",
              "      <td>2.00000</td>\n",
              "      <td>126000.00000</td>\n",
              "      <td>4.00000</td>\n",
              "      <td>6.00000</td>\n",
              "    </tr>\n",
              "    <tr>\n",
              "      <th>75%</th>\n",
              "      <td>45802036.00000</td>\n",
              "      <td>22075.00000</td>\n",
              "      <td>917.00000</td>\n",
              "      <td>2015.00000</td>\n",
              "      <td>2.50000</td>\n",
              "      <td>188888.00000</td>\n",
              "      <td>4.00000</td>\n",
              "      <td>12.00000</td>\n",
              "    </tr>\n",
              "    <tr>\n",
              "      <th>max</th>\n",
              "      <td>45816654.00000</td>\n",
              "      <td>26307500.00000</td>\n",
              "      <td>11714.00000</td>\n",
              "      <td>2020.00000</td>\n",
              "      <td>20.00000</td>\n",
              "      <td>2147483647.00000</td>\n",
              "      <td>16.00000</td>\n",
              "      <td>16.00000</td>\n",
              "    </tr>\n",
              "  </tbody>\n",
              "</table>\n",
              "</div>"
            ],
            "text/plain": [
              "                   ID           Price         Levy   Prod. year Engine volume  \\\n",
              "count     19237.00000     19237.00000  19237.00000  19237.00000   19237.00000   \n",
              "mean   45576535.88610     18555.92722    632.52867   2010.91282       2.30799   \n",
              "std      936591.42280    190581.26968    567.72169      5.66867       0.87780   \n",
              "min    20746880.00000         1.00000      0.00000   1939.00000       0.00000   \n",
              "25%    45698374.00000      5331.00000      0.00000   2009.00000       1.80000   \n",
              "50%    45772308.00000     13172.00000    642.00000   2012.00000       2.00000   \n",
              "75%    45802036.00000     22075.00000    917.00000   2015.00000       2.50000   \n",
              "max    45816654.00000  26307500.00000  11714.00000   2020.00000      20.00000   \n",
              "\n",
              "                Mileage    Cylinders      Airbags  \n",
              "count       19237.00000  19237.00000  19237.00000  \n",
              "mean      1532235.68769      4.58299      6.58263  \n",
              "std      48403869.37929      1.19993      4.32017  \n",
              "min             0.00000      1.00000      0.00000  \n",
              "25%         70139.00000      4.00000      4.00000  \n",
              "50%        126000.00000      4.00000      6.00000  \n",
              "75%        188888.00000      4.00000     12.00000  \n",
              "max    2147483647.00000     16.00000     16.00000  "
            ]
          },
          "metadata": {
            "tags": []
          },
          "execution_count": 25
        }
      ]
    },
    {
      "cell_type": "code",
      "metadata": {
        "colab": {
          "base_uri": "https://localhost:8080/",
          "height": 735
        },
        "id": "mEwesYGCjCYW",
        "outputId": "31b29b05-fbda-437b-d1f2-ce5481f333d2"
      },
      "source": [
        "plt.figure(figsize=(15,12))\n",
        "palette = sns.diverging_palette(20, 220, n=256)\n",
        "corr=train_df.corr(method='pearson')\n",
        "sns.heatmap(corr, annot=True, fmt=\".2f\", cmap=palette, vmax=.3, center=0, square=True, linewidths=.5, cbar_kws={\"shrink\": .5}).set(ylim=(9, 0))\n",
        "plt.title(\"Correlation Matrix\",size=15, weight='bold')"
      ],
      "execution_count": 26,
      "outputs": [
        {
          "output_type": "execute_result",
          "data": {
            "text/plain": [
              "Text(0.5, 1.0, 'Correlation Matrix')"
            ]
          },
          "metadata": {
            "tags": []
          },
          "execution_count": 26
        },
        {
          "output_type": "display_data",
          "data": {
            "image/png": "[encoded data removed]",
            "text/plain": [
              "<Figure size 1080x864 with 2 Axes>"
            ]
          },
          "metadata": {
            "tags": [],
            "needs_background": "light"
          }
        }
      ]
    },
    {
      "cell_type": "code",
      "metadata": {
        "id": "5ijzstBNjCYW"
      },
      "source": [
        "plt.rcParams['figure.figsize']=[12,8]\n",
        "sns.set(style='darkgrid')"
      ],
      "execution_count": 27,
      "outputs": []
    },
    {
      "cell_type": "code",
      "metadata": {
        "colab": {
          "base_uri": "https://localhost:8080/",
          "height": 530
        },
        "id": "wTUF_LR9jCYX",
        "outputId": "80b5c200-6953-4ddc-9838-c71dda96fc68"
      },
      "source": [
        "sns.distplot(train_df.Price)"
      ],
      "execution_count": 28,
      "outputs": [
        {
          "output_type": "execute_result",
          "data": {
            "text/plain": [
              "<matplotlib.axes._subplots.AxesSubplot at 0x7f4adbb77750>"
            ]
          },
          "metadata": {
            "tags": []
          },
          "execution_count": 28
        },
        {
          "output_type": "display_data",
          "data": {
            "image/png": "[encoded data removed]",
            "text/plain": [
              "<Figure size 864x576 with 1 Axes>"
            ]
          },
          "metadata": {
            "tags": []
          }
        }
      ]
    },
    {
      "cell_type": "code",
      "metadata": {
        "colab": {
          "base_uri": "https://localhost:8080/",
          "height": 519
        },
        "id": "zmMe5R8pjCYX",
        "outputId": "a86eedd8-c6ed-4223-9d73-ff5c6277c647"
      },
      "source": [
        "sns.boxplot(train_df.Price)"
      ],
      "execution_count": 29,
      "outputs": [
        {
          "output_type": "execute_result",
          "data": {
            "text/plain": [
              "<matplotlib.axes._subplots.AxesSubplot at 0x7f4ad9634910>"
            ]
          },
          "metadata": {
            "tags": []
          },
          "execution_count": 29
        },
        {
          "output_type": "display_data",
          "data": {
            "image/png": "[encoded data removed]",
            "text/plain": [
              "<Figure size 864x576 with 1 Axes>"
            ]
          },
          "metadata": {
            "tags": []
          }
        }
      ]
    },
    {
      "cell_type": "code",
      "metadata": {
        "id": "Lf0U5WqQjCYX"
      },
      "source": [
        "#remove outliers using IQR\n",
        "Q1 = np.percentile(train_df['Price'],25)\n",
        "Q2 = np.percentile(train_df['Price'],50)\n",
        "Q3 = np.percentile(train_df['Price'],75)\n",
        "IQR =  Q3 - Q1\n",
        "a=Q1-(1.5*IQR)\n",
        "b=Q3+(1.5*IQR)\n",
        "df1=train_df[(train_df['Price']<b) & (train_df['Price']>a)]"
      ],
      "execution_count": 30,
      "outputs": []
    },
    {
      "cell_type": "code",
      "metadata": {
        "colab": {
          "base_uri": "https://localhost:8080/"
        },
        "id": "xfUeo7PejCYY",
        "outputId": "9e294dd0-2b19-4eac-bb7d-499910b24ac6"
      },
      "source": [
        "df1.shape"
      ],
      "execution_count": 31,
      "outputs": [
        {
          "output_type": "execute_result",
          "data": {
            "text/plain": [
              "(18164, 20)"
            ]
          },
          "metadata": {
            "tags": []
          },
          "execution_count": 31
        }
      ]
    },
    {
      "cell_type": "code",
      "metadata": {
        "colab": {
          "base_uri": "https://localhost:8080/"
        },
        "id": "MkxRYGl_jCYZ",
        "outputId": "af01ef07-9041-4d65-a329-02e285fcea04"
      },
      "source": [
        "df1.Price.describe()"
      ],
      "execution_count": 32,
      "outputs": [
        {
          "output_type": "execute_result",
          "data": {
            "text/plain": [
              "count   18164.00\n",
              "mean    14024.92\n",
              "std     11377.78\n",
              "min         1.00\n",
              "25%      4861.00\n",
              "50%     12231.00\n",
              "75%     20071.00\n",
              "max     47120.00\n",
              "Name: Price, dtype: float64"
            ]
          },
          "metadata": {
            "tags": []
          },
          "execution_count": 32
        }
      ]
    },
    {
      "cell_type": "code",
      "metadata": {
        "colab": {
          "base_uri": "https://localhost:8080/"
        },
        "id": "Mpmwn15hjCYZ",
        "outputId": "24077c36-735d-4bde-b73e-4f76b05fda5d"
      },
      "source": [
        "# As we can see IQR method gives us the minimum price of 1 unit and distribution is more positively skewed and right tail goes upto a vergh value we will use other way to filter the data\n",
        "min= train_df.Price.quantile(0.025)\n",
        "max = train_df.Price.quantile(0.975)\n",
        "filtered_df= train_df[(train_df.Price>min)&(train_df.Price<max)]\n",
        "filtered_df.shape"
      ],
      "execution_count": 33,
      "outputs": [
        {
          "output_type": "execute_result",
          "data": {
            "text/plain": [
              "(18208, 20)"
            ]
          },
          "metadata": {
            "tags": []
          },
          "execution_count": 33
        }
      ]
    },
    {
      "cell_type": "code",
      "metadata": {
        "colab": {
          "base_uri": "https://localhost:8080/",
          "height": 297
        },
        "id": "zZWC77r8jCYa",
        "outputId": "5212eb80-fcc4-4ec5-d86a-abea10cda609"
      },
      "source": [
        "filtered_df.describe()"
      ],
      "execution_count": 34,
      "outputs": [
        {
          "output_type": "execute_result",
          "data": {
            "text/html": [
              "<div>\n",
              "<style scoped>\n",
              "    .dataframe tbody tr th:only-of-type {\n",
              "        vertical-align: middle;\n",
              "    }\n",
              "\n",
              "    .dataframe tbody tr th {\n",
              "        vertical-align: top;\n",
              "    }\n",
              "\n",
              "    .dataframe thead th {\n",
              "        text-align: right;\n",
              "    }\n",
              "</style>\n",
              "<table border=\"1\" class=\"dataframe\">\n",
              "  <thead>\n",
              "    <tr style=\"text-align: right;\">\n",
              "      <th></th>\n",
              "      <th>ID</th>\n",
              "      <th>Price</th>\n",
              "      <th>Levy</th>\n",
              "      <th>Prod. year</th>\n",
              "      <th>Engine volume</th>\n",
              "      <th>Mileage</th>\n",
              "      <th>Cylinders</th>\n",
              "      <th>Airbags</th>\n",
              "    </tr>\n",
              "  </thead>\n",
              "  <tbody>\n",
              "    <tr>\n",
              "      <th>count</th>\n",
              "      <td>18208.00</td>\n",
              "      <td>18208.00</td>\n",
              "      <td>18208.00</td>\n",
              "      <td>18208.00</td>\n",
              "      <td>18208.00</td>\n",
              "      <td>18208.00</td>\n",
              "      <td>18208.00</td>\n",
              "      <td>18208.00</td>\n",
              "    </tr>\n",
              "    <tr>\n",
              "      <th>mean</th>\n",
              "      <td>45616791.78</td>\n",
              "      <td>15716.08</td>\n",
              "      <td>634.63</td>\n",
              "      <td>2010.84</td>\n",
              "      <td>2.29</td>\n",
              "      <td>1432276.39</td>\n",
              "      <td>4.55</td>\n",
              "      <td>6.57</td>\n",
              "    </tr>\n",
              "    <tr>\n",
              "      <th>std</th>\n",
              "      <td>721105.62</td>\n",
              "      <td>13061.94</td>\n",
              "      <td>561.43</td>\n",
              "      <td>5.58</td>\n",
              "      <td>0.86</td>\n",
              "      <td>46418303.92</td>\n",
              "      <td>1.16</td>\n",
              "      <td>4.30</td>\n",
              "    </tr>\n",
              "    <tr>\n",
              "      <th>min</th>\n",
              "      <td>23242980.00</td>\n",
              "      <td>160.00</td>\n",
              "      <td>0.00</td>\n",
              "      <td>1939.00</td>\n",
              "      <td>0.00</td>\n",
              "      <td>0.00</td>\n",
              "      <td>1.00</td>\n",
              "      <td>0.00</td>\n",
              "    </tr>\n",
              "    <tr>\n",
              "      <th>25%</th>\n",
              "      <td>45720071.00</td>\n",
              "      <td>5959.00</td>\n",
              "      <td>0.00</td>\n",
              "      <td>2009.00</td>\n",
              "      <td>1.80</td>\n",
              "      <td>72000.00</td>\n",
              "      <td>4.00</td>\n",
              "      <td>4.00</td>\n",
              "    </tr>\n",
              "    <tr>\n",
              "      <th>50%</th>\n",
              "      <td>45773275.50</td>\n",
              "      <td>13172.00</td>\n",
              "      <td>642.00</td>\n",
              "      <td>2012.00</td>\n",
              "      <td>2.00</td>\n",
              "      <td>127634.50</td>\n",
              "      <td>4.00</td>\n",
              "      <td>6.00</td>\n",
              "    </tr>\n",
              "    <tr>\n",
              "      <th>75%</th>\n",
              "      <td>45802158.25</td>\n",
              "      <td>21639.00</td>\n",
              "      <td>900.00</td>\n",
              "      <td>2014.00</td>\n",
              "      <td>2.50</td>\n",
              "      <td>189571.00</td>\n",
              "      <td>4.00</td>\n",
              "      <td>12.00</td>\n",
              "    </tr>\n",
              "    <tr>\n",
              "      <th>max</th>\n",
              "      <td>45816654.00</td>\n",
              "      <td>61471.00</td>\n",
              "      <td>11714.00</td>\n",
              "      <td>2020.00</td>\n",
              "      <td>20.00</td>\n",
              "      <td>2147483647.00</td>\n",
              "      <td>16.00</td>\n",
              "      <td>16.00</td>\n",
              "    </tr>\n",
              "  </tbody>\n",
              "</table>\n",
              "</div>"
            ],
            "text/plain": [
              "               ID    Price     Levy  Prod. year  Engine volume       Mileage  \\\n",
              "count    18208.00 18208.00 18208.00    18208.00       18208.00      18208.00   \n",
              "mean  45616791.78 15716.08   634.63     2010.84           2.29    1432276.39   \n",
              "std     721105.62 13061.94   561.43        5.58           0.86   46418303.92   \n",
              "min   23242980.00   160.00     0.00     1939.00           0.00          0.00   \n",
              "25%   45720071.00  5959.00     0.00     2009.00           1.80      72000.00   \n",
              "50%   45773275.50 13172.00   642.00     2012.00           2.00     127634.50   \n",
              "75%   45802158.25 21639.00   900.00     2014.00           2.50     189571.00   \n",
              "max   45816654.00 61471.00 11714.00     2020.00          20.00 2147483647.00   \n",
              "\n",
              "       Cylinders  Airbags  \n",
              "count   18208.00 18208.00  \n",
              "mean        4.55     6.57  \n",
              "std         1.16     4.30  \n",
              "min         1.00     0.00  \n",
              "25%         4.00     4.00  \n",
              "50%         4.00     6.00  \n",
              "75%         4.00    12.00  \n",
              "max        16.00    16.00  "
            ]
          },
          "metadata": {
            "tags": []
          },
          "execution_count": 34
        }
      ]
    },
    {
      "cell_type": "code",
      "metadata": {
        "id": "sILr7-fSjCYb"
      },
      "source": [
        "filtered_df[\"No_of_Year\"]=2021-filtered_df[\"Prod. year\"]\n",
        "test_df[\"No_of_Year\"]=2021-test_df[\"Prod. year\"]"
      ],
      "execution_count": 35,
      "outputs": []
    },
    {
      "cell_type": "code",
      "metadata": {
        "id": "VD8XExwYjCYb"
      },
      "source": [
        "def data_Preprocessing(df,list):\n",
        "    # Drop Column not required in analysis\n",
        "    df.drop(list,axis=1,inplace=True)\n",
        "    \n",
        "    # \n",
        "    df.loc[df[\"Fuel type\"]==\"Hydrogen\",\"Fuel type\"]=\"Plug-in Hybrid\"\n",
        "    # Store Numerical and Categoricall column Seperately\n",
        "    cat_var=df.select_dtypes(include=[np.object])\n",
        "    num_var=df.select_dtypes(include=[np.float64,np.int64])\n",
        "    \n",
        "    #  Convert categorical column to Dummy Variables\n",
        "    dumm_var=pd.get_dummies(cat_var, drop_first=True)\n",
        "    n=pd.concat([num_var, dumm_var], axis=1)\n",
        "    \n",
        "    # Impute Missing Values\n",
        "    X=n.values\n",
        "    imputer = KNNImputer(n_neighbors=3, weights='uniform', metric='nan_euclidean')\n",
        "    imputer.fit(X)\n",
        "    Xtrans = imputer.transform(X)\n",
        "    return pd.DataFrame(Xtrans,columns=n.columns.to_list())"
      ],
      "execution_count": 36,
      "outputs": []
    },
    {
      "cell_type": "code",
      "metadata": {
        "id": "EtaiBvr0jCYb"
      },
      "source": [
        "train_df=data_Preprocessing(filtered_df,['ID','Model', 'Prod. year','Manufacturer',\"Color\"])\n",
        "test_df=data_Preprocessing(test_df,['ID',  'Model', 'Prod. year',\"Price\",'Manufacturer',\"Color\"])"
      ],
      "execution_count": 37,
      "outputs": []
    },
    {
      "cell_type": "code",
      "metadata": {
        "colab": {
          "base_uri": "https://localhost:8080/"
        },
        "id": "rtFi96UMjCYc",
        "outputId": "ff443930-17ab-4089-c034-497c64fd0988"
      },
      "source": [
        "train_df.shape"
      ],
      "execution_count": 38,
      "outputs": [
        {
          "output_type": "execute_result",
          "data": {
            "text/plain": [
              "(18208, 32)"
            ]
          },
          "metadata": {
            "tags": []
          },
          "execution_count": 38
        }
      ]
    },
    {
      "cell_type": "code",
      "metadata": {
        "colab": {
          "base_uri": "https://localhost:8080/"
        },
        "id": "0HF1OQZGjCYc",
        "outputId": "4a7b713f-fd10-4940-e558-a502d326848e"
      },
      "source": [
        "test_df.shape"
      ],
      "execution_count": 39,
      "outputs": [
        {
          "output_type": "execute_result",
          "data": {
            "text/plain": [
              "(8245, 31)"
            ]
          },
          "metadata": {
            "tags": []
          },
          "execution_count": 39
        }
      ]
    },
    {
      "cell_type": "code",
      "metadata": {
        "colab": {
          "base_uri": "https://localhost:8080/",
          "height": 631
        },
        "id": "UkvwJUzAjCYc",
        "outputId": "7762bafb-a3b6-42e1-ed4c-8f137725e1fa"
      },
      "source": [
        "sns.heatmap(train_df.isnull())"
      ],
      "execution_count": 40,
      "outputs": [
        {
          "output_type": "execute_result",
          "data": {
            "text/plain": [
              "<matplotlib.axes._subplots.AxesSubplot at 0x7f4ad956cc10>"
            ]
          },
          "metadata": {
            "tags": []
          },
          "execution_count": 40
        },
        {
          "output_type": "display_data",
          "data": {
            "image/png": "[encoded data removed]",
            "text/plain": [
              "<Figure size 864x576 with 2 Axes>"
            ]
          },
          "metadata": {
            "tags": []
          }
        }
      ]
    },
    {
      "cell_type": "code",
      "metadata": {
        "id": "AKcRfOSCjCYc"
      },
      "source": [
        "X=train_df.drop([\"Price\"],axis=1)\n",
        "y=train_df[\"Price\"]"
      ],
      "execution_count": 41,
      "outputs": []
    },
    {
      "cell_type": "markdown",
      "metadata": {
        "id": "tcGWZG1D0yHG"
      },
      "source": [
        "## Let's check 5 Most Important Featuers"
      ]
    },
    {
      "cell_type": "code",
      "metadata": {
        "colab": {
          "base_uri": "https://localhost:8080/"
        },
        "id": "dAqaGIPqjCYd",
        "outputId": "a0e4044f-a6e0-4375-d640-e0eb72adba42"
      },
      "source": [
        "from sklearn.ensemble import ExtraTreesRegressor\n",
        "import matplotlib.pyplot as plt\n",
        "model = ExtraTreesRegressor()\n",
        "model.fit(X,y)"
      ],
      "execution_count": 42,
      "outputs": [
        {
          "output_type": "execute_result",
          "data": {
            "text/plain": [
              "ExtraTreesRegressor()"
            ]
          },
          "metadata": {
            "tags": []
          },
          "execution_count": 42
        }
      ]
    },
    {
      "cell_type": "code",
      "metadata": {
        "colab": {
          "base_uri": "https://localhost:8080/",
          "height": 485
        },
        "id": "8L1ACvUBjCYd",
        "outputId": "c257f082-b7aa-4840-85ef-06e0458e4cdb"
      },
      "source": [
        "#plot graph of feature importances for better visualization\n",
        "feat_importances = pd.Series(model.feature_importances_, index=X.columns)\n",
        "feat_importances.nlargest(5).plot(kind='barh')\n",
        "plt.show()"
      ],
      "execution_count": 43,
      "outputs": [
        {
          "output_type": "display_data",
          "data": {
            "image/png": "[encoded data removed]",
            "text/plain": [
              "<Figure size 864x576 with 1 Axes>"
            ]
          },
          "metadata": {
            "tags": []
          }
        }
      ]
    },
    {
      "cell_type": "code",
      "metadata": {
        "id": "P2oBGzNVjCYd"
      },
      "source": [
        "from sklearn.model_selection import train_test_split\n",
        "X_train, X_test, y_train, y_test = train_test_split(X, y, test_size=0.2, random_state=0)"
      ],
      "execution_count": 44,
      "outputs": []
    },
    {
      "cell_type": "markdown",
      "metadata": {
        "id": "TI4k-RmI2Jgh"
      },
      "source": [
        "### To create our Baseline Models we will use Lazy predict library which gives aroung 42 base line models and there evaluation matrix in minimal line of codes "
      ]
    },
    {
      "cell_type": "code",
      "metadata": {
        "colab": {
          "base_uri": "https://localhost:8080/"
        },
        "id": "_9EvjavTjCYd",
        "outputId": "869966e7-0616-49cc-e444-87f0b41d3bef"
      },
      "source": [
        "reg = LazyRegressor(ignore_warnings=False, custom_metric=None)\n",
        "models, predictions = reg.fit(X_train, X_test, y_train, y_test)\n",
        "print(models)"
      ],
      "execution_count": 45,
      "outputs": [
        {
          "output_type": "stream",
          "text": [
            "100%|██████████| 42/42 [04:16<00:00,  6.10s/it]"
          ],
          "name": "stderr"
        },
        {
          "output_type": "stream",
          "text": [
            "                               Adjusted R-Squared  R-Squared      RMSE  \\\n",
            "Model                                                                    \n",
            "RandomForestRegressor                        0.77       0.77   6266.54   \n",
            "XGBRegressor                                 0.76       0.76   6402.08   \n",
            "ExtraTreesRegressor                          0.75       0.75   6476.50   \n",
            "BaggingRegressor                             0.75       0.75   6505.18   \n",
            "LGBMRegressor                                0.74       0.74   6651.10   \n",
            "HistGradientBoostingRegressor                0.73       0.73   6753.06   \n",
            "KNeighborsRegressor                          0.69       0.69   7208.01   \n",
            "GradientBoostingRegressor                    0.61       0.61   8125.62   \n",
            "DecisionTreeRegressor                        0.60       0.60   8191.46   \n",
            "ExtraTreeRegressor                           0.60       0.60   8217.95   \n",
            "MLPRegressor                                 0.40       0.40  10054.56   \n",
            "PoissonRegressor                             0.35       0.36  10420.80   \n",
            "LassoLarsIC                                  0.32       0.32  10704.63   \n",
            "LassoCV                                      0.32       0.32  10705.10   \n",
            "LassoLarsCV                                  0.32       0.32  10705.77   \n",
            "BayesianRidge                                0.32       0.32  10705.93   \n",
            "Lasso                                        0.32       0.32  10706.27   \n",
            "RidgeCV                                      0.32       0.32  10706.31   \n",
            "Ridge                                        0.32       0.32  10706.70   \n",
            "TransformedTargetRegressor                   0.32       0.32  10706.78   \n",
            "LinearRegression                             0.32       0.32  10706.78   \n",
            "LassoLars                                    0.32       0.32  10724.14   \n",
            "HuberRegressor                               0.31       0.32  10770.94   \n",
            "SGDRegressor                                 0.31       0.32  10773.81   \n",
            "PassiveAggressiveRegressor                   0.30       0.31  10835.65   \n",
            "ElasticNet                                   0.26       0.27  11130.09   \n",
            "OrthogonalMatchingPursuitCV                  0.26       0.27  11161.96   \n",
            "AdaBoostRegressor                            0.22       0.23  11430.34   \n",
            "TweedieRegressor                             0.22       0.22  11473.39   \n",
            "GeneralizedLinearRegressor                   0.22       0.22  11473.39   \n",
            "GammaRegressor                               0.21       0.22  11498.73   \n",
            "OrthogonalMatchingPursuit                    0.19       0.20  11653.81   \n",
            "ElasticNetCV                                 0.11       0.12  12250.45   \n",
            "LarsCV                                       0.07       0.08  12478.75   \n",
            "DummyRegressor                              -0.01      -0.00  13024.49   \n",
            "NuSVR                                       -0.02      -0.01  13098.66   \n",
            "SVR                                         -0.03      -0.02  13167.14   \n",
            "Lars                                        -0.03      -0.03  13192.50   \n",
            "LinearSVR                                   -0.32      -0.31  14904.99   \n",
            "KernelRidge                                 -1.13      -1.11  18916.98   \n",
            "RANSACRegressor                           -102.97    -102.09 132238.63   \n",
            "GaussianProcessRegressor                  -915.08    -907.28 392527.78   \n",
            "\n",
            "                               Time Taken  \n",
            "Model                                      \n",
            "RandomForestRegressor                6.13  \n",
            "XGBRegressor                         1.88  \n",
            "ExtraTreesRegressor                  4.89  \n",
            "BaggingRegressor                     0.69  \n",
            "LGBMRegressor                        0.43  \n",
            "HistGradientBoostingRegressor        1.08  \n",
            "KNeighborsRegressor                  2.48  \n",
            "GradientBoostingRegressor            1.75  \n",
            "DecisionTreeRegressor                0.16  \n",
            "ExtraTreeRegressor                   0.15  \n",
            "MLPRegressor                        18.94  \n",
            "PoissonRegressor                     0.21  \n",
            "LassoLarsIC                          0.07  \n",
            "LassoCV                              0.57  \n",
            "LassoLarsCV                          0.26  \n",
            "BayesianRidge                        0.07  \n",
            "Lasso                                0.77  \n",
            "RidgeCV                              0.09  \n",
            "Ridge                                0.04  \n",
            "TransformedTargetRegressor           0.05  \n",
            "LinearRegression                     0.07  \n",
            "LassoLars                            0.06  \n",
            "HuberRegressor                       0.60  \n",
            "SGDRegressor                         0.19  \n",
            "PassiveAggressiveRegressor           0.16  \n",
            "ElasticNet                           0.05  \n",
            "OrthogonalMatchingPursuitCV          0.12  \n",
            "AdaBoostRegressor                    1.08  \n",
            "TweedieRegressor                     0.07  \n",
            "GeneralizedLinearRegressor           0.08  \n",
            "GammaRegressor                       0.08  \n",
            "OrthogonalMatchingPursuit            0.05  \n",
            "ElasticNetCV                         0.33  \n",
            "LarsCV                               0.22  \n",
            "DummyRegressor                       0.03  \n",
            "NuSVR                               29.97  \n",
            "SVR                                 28.79  \n",
            "Lars                                 0.06  \n",
            "LinearSVR                            0.08  \n",
            "KernelRidge                         49.31  \n",
            "RANSACRegressor                      0.29  \n",
            "GaussianProcessRegressor           103.60  \n"
          ],
          "name": "stdout"
        },
        {
          "output_type": "stream",
          "text": [
            "\n"
          ],
          "name": "stderr"
        }
      ]
    },
    {
      "cell_type": "markdown",
      "metadata": {
        "id": "Hj5OTaP31DgZ"
      },
      "source": [
        "# Hyper Parameter Tuning best Base line model using Randomsearch CV\n",
        "\n",
        "\n",
        "1.   To find the Best Hyperparameter Value uncomment the cells and run it\n",
        "2.   Remember it is very costely in terms of Computatied it once and save Hyper Parameter to future use\n",
        "\n"
      ]
    },
    {
      "cell_type": "code",
      "metadata": {
        "id": "QIQjgYJyjCYe"
      },
      "source": [
        "#Let's create the base model and use random search cv to tune the Hyper Parameters\n",
        "#regressor=RandomForestRegressor()"
      ],
      "execution_count": 46,
      "outputs": []
    },
    {
      "cell_type": "code",
      "metadata": {
        "id": "yKyHyvq1MdWx"
      },
      "source": [
        "\n",
        "#Randomized Search CV\n",
        "\n",
        "# Number of trees in random forest\n",
        "#n_estimators = [int(x) for x in np.linspace(start = 100, stop = 1200, num = 12)]\n",
        "# Number of features to consider at every split\n",
        "#max_features = ['auto', 'sqrt']\n",
        "# Maximum number of levels in tree\n",
        "#max_depth = [int(x) for x in np.linspace(5, 30, num = 6)]\n",
        "# max_depth.append(None)\n",
        "# Minimum number of samples required to split a node\n",
        "#min_samples_split = [2, 5, 10, 15, 100]\n",
        "# Minimum number of samples required at each leaf node\n",
        "#min_samples_leaf = [1, 2, 5, 10]"
      ],
      "execution_count": 47,
      "outputs": []
    },
    {
      "cell_type": "code",
      "metadata": {
        "id": "wFQRePgwjCYe"
      },
      "source": [
        "# Create the random grid\n",
        "#random_grid = {'n_estimators': n_estimators,\n",
        "              #  'max_features': max_features,\n",
        "              #  'max_depth': max_depth,\n",
        "              #  'min_samples_split': min_samples_split,\n",
        "              #  'min_samples_leaf': min_samples_leaf}\n",
        "\n",
        "#print(random_grid)"
      ],
      "execution_count": 48,
      "outputs": []
    },
    {
      "cell_type": "code",
      "metadata": {
        "id": "yO4lgWyW1qgE"
      },
      "source": [
        "# Random search of parameters, using 5 fold cross validation, \n",
        "# rf_random = RandomizedSearchCV(estimator = rf, param_distributions = random_grid,scoring='neg_mean_squared_error', n_iter = 10, cv = 5, verbose=2, random_state=42, n_jobs = 1)"
      ],
      "execution_count": 49,
      "outputs": []
    },
    {
      "cell_type": "code",
      "metadata": {
        "id": "A9WpLWWO1zAU"
      },
      "source": [
        "#rf_random.best_params_"
      ],
      "execution_count": 50,
      "outputs": []
    },
    {
      "cell_type": "code",
      "metadata": {
        "id": "Tj1GA_2Q1zFq"
      },
      "source": [
        "# Moel Parameters \n",
        "#print(rf_random.best_estimator_)"
      ],
      "execution_count": 51,
      "outputs": []
    },
    {
      "cell_type": "code",
      "metadata": {
        "id": "Qa6aWvPx2wij"
      },
      "source": [
        "#rf_random.fit(X_train,y_train)"
      ],
      "execution_count": 52,
      "outputs": []
    },
    {
      "cell_type": "markdown",
      "metadata": {
        "id": "CMpOp5YJ2uzu"
      },
      "source": [
        "## Prediction using Final_model"
      ]
    },
    {
      "cell_type": "code",
      "metadata": {
        "id": "MU9AOKDO2DTE"
      },
      "source": [
        "#best_params={'max_depth': 25,'max_features': 'sqrt','min_samples_leaf': 1,'min_samples_split': 2,'n_estimators': 1000}"
      ],
      "execution_count": 53,
      "outputs": []
    },
    {
      "cell_type": "code",
      "metadata": {
        "id": "ZUIUeD2FjCYe"
      },
      "source": [
        "rf = RandomForestRegressor(max_depth=25,max_features='sqrt',n_estimators=1000)"
      ],
      "execution_count": 54,
      "outputs": []
    },
    {
      "cell_type": "code",
      "metadata": {
        "colab": {
          "base_uri": "https://localhost:8080/"
        },
        "id": "DND_VaeKjCYg",
        "outputId": "207d1556-4f24-4103-9af7-66d5082df670"
      },
      "source": [
        "# Prediction using best parameters\n",
        "\n",
        "rf.fit(X_train,y_train)\n",
        "rf_random_predictions = rf.predict(X_test) \n",
        "  \n",
        "print(\"r2 score : \",r2_score(y_test,rf_random_predictions))\n",
        "print(\"MSLE     : \",mean_squared_log_error(y_test,rf_random_predictions))"
      ],
      "execution_count": 55,
      "outputs": [
        {
          "output_type": "stream",
          "text": [
            "r2 score :  0.7772552228562823\n",
            "MSLE     :  0.568078017932461\n"
          ],
          "name": "stdout"
        }
      ]
    },
    {
      "cell_type": "code",
      "metadata": {
        "id": "_w4pzgBVjCYh"
      },
      "source": [
        "pred=rf.predict(test_df)"
      ],
      "execution_count": 56,
      "outputs": []
    },
    {
      "cell_type": "code",
      "metadata": {
        "id": "OykIytC_jCYh"
      },
      "source": [
        "prediction=pd.DataFrame(pred,columns=[\"Price\"])"
      ],
      "execution_count": 57,
      "outputs": []
    },
    {
      "cell_type": "code",
      "metadata": {
        "colab": {
          "base_uri": "https://localhost:8080/",
          "height": 204
        },
        "id": "tIBIMxPRjCYh",
        "outputId": "77693976-5ebc-4799-da2b-b7db82cf8b64"
      },
      "source": [
        "prediction.head()"
      ],
      "execution_count": 58,
      "outputs": [
        {
          "output_type": "execute_result",
          "data": {
            "text/html": [
              "<div>\n",
              "<style scoped>\n",
              "    .dataframe tbody tr th:only-of-type {\n",
              "        vertical-align: middle;\n",
              "    }\n",
              "\n",
              "    .dataframe tbody tr th {\n",
              "        vertical-align: top;\n",
              "    }\n",
              "\n",
              "    .dataframe thead th {\n",
              "        text-align: right;\n",
              "    }\n",
              "</style>\n",
              "<table border=\"1\" class=\"dataframe\">\n",
              "  <thead>\n",
              "    <tr style=\"text-align: right;\">\n",
              "      <th></th>\n",
              "      <th>Price</th>\n",
              "    </tr>\n",
              "  </thead>\n",
              "  <tbody>\n",
              "    <tr>\n",
              "      <th>0</th>\n",
              "      <td>17305.87</td>\n",
              "    </tr>\n",
              "    <tr>\n",
              "      <th>1</th>\n",
              "      <td>21425.22</td>\n",
              "    </tr>\n",
              "    <tr>\n",
              "      <th>2</th>\n",
              "      <td>8774.29</td>\n",
              "    </tr>\n",
              "    <tr>\n",
              "      <th>3</th>\n",
              "      <td>8555.78</td>\n",
              "    </tr>\n",
              "    <tr>\n",
              "      <th>4</th>\n",
              "      <td>3278.47</td>\n",
              "    </tr>\n",
              "  </tbody>\n",
              "</table>\n",
              "</div>"
            ],
            "text/plain": [
              "     Price\n",
              "0 17305.87\n",
              "1 21425.22\n",
              "2  8774.29\n",
              "3  8555.78\n",
              "4  3278.47"
            ]
          },
          "metadata": {
            "tags": []
          },
          "execution_count": 58
        }
      ]
    },
    {
      "cell_type": "code",
      "metadata": {
        "id": "TaJxB6SXjCYi"
      },
      "source": [
        "prediction.to_csv(\"/content/drive/My Drive/Machine_hack/Price.csv\")"
      ],
      "execution_count": 59,
      "outputs": []
    },
    {
      "cell_type": "code",
      "metadata": {
        "id": "i6lYxYrVjCYi"
      },
      "source": [
        ""
      ],
      "execution_count": 59,
      "outputs": []
    }
  ]
}